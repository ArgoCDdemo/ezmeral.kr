{
 "cells": [
  {
   "cell_type": "markdown",
   "metadata": {},
   "source": [
    "# Lab 3 - Training\n",
    "In this lab we will take our data and train a couple of models using different algorithms and utilize our training cluster"
   ]
  },
  {
   "cell_type": "code",
   "execution_count": null,
   "metadata": {
    "scrolled": true
   },
   "outputs": [],
   "source": [
    "import numpy\n",
    "import os\n",
    "import pandas as pd\n",
    "import tensorflow as tf\n",
    "\n",
    "%store -r STUDENT\n",
    "\n",
    "## Set the project repo \n",
    "def ProjectRepo(path):\n",
    "   ProjectRepo = \"/bd-fs-mnt/project_repo\"\n",
    "   return str(ProjectRepo + '/' + path)\n",
    "\n",
    "## Load the dataset\n",
    "dataset = pd.read_csv(ProjectRepo('data/' + STUDENT + '_Diabetes/pima-indians-diabetes.csv'), delimiter=\",\")\n",
    "dataset.columns = [\n",
    "    \"NumTimesPrg\", \"PlGlcConc\", \"BloodP\",\n",
    "    \"SkinThick\", \"TwoHourSerIns\", \"BMI\",\n",
    "    \"DiPedFunc\", \"Age\", \"HasDiabetes\"]"
   ]
  },
  {
   "cell_type": "markdown",
   "metadata": {},
   "source": [
    "- Pregnancies\n",
    "- Glucose — The blood plasma glucose concentration after a 2 hour oral glucose tolerance test.\n",
    "- BloodPressure — Diastolic blood pressure (mm/HG).\n",
    "- SkinThickness — Skinfold thickness of the triceps (mm).\n",
    "- Insulin — 2 hour serum insulin (mu U/ml).\n",
    "- BMI — Body mass index (kg/m squared)\n",
    "- DiabetesPedigreeFunction — A function that determines the risk of type 2 diabetes based on family history, the larger the function, the higher the risk of type 2 diabetes.\n",
    "- Age.\n",
    "- Outcome — Whether the person is diagnosed with type 2 diabetes (1 = yes, 0 = no)."
   ]
  },
  {
   "cell_type": "markdown",
   "metadata": {},
   "source": [
    "# Model Development (Part 1)\n",
    "- Attempting first model with XGB"
   ]
  },
  {
   "cell_type": "code",
   "execution_count": null,
   "metadata": {},
   "outputs": [],
   "source": [
    "# First XGBoost model for Pima Indians dataset\n",
    "from numpy import loadtxt\n",
    "from xgboost import XGBClassifier\n",
    "from sklearn.model_selection import train_test_split\n",
    "from sklearn.metrics import accuracy_score\n",
    "import pickle\n",
    "\n",
    "# load data\n",
    "dataset = loadtxt(ProjectRepo('data/' + STUDENT + '_Diabetes/pima-indians-diabetes.csv'), delimiter=\",\") \n",
    "\n",
    "# split data into X and y\n",
    "X_train = dataset[:,0:8]\n",
    "y_train = dataset[:,8]\n",
    "\n",
    "# fit model no training data\n",
    "model = XGBClassifier()\n",
    "model.fit(X_train, y_train)\n",
    "\n",
    "#\n",
    "print(model.get_xgb_params())"
   ]
  },
  {
   "cell_type": "code",
   "execution_count": null,
   "metadata": {},
   "outputs": [],
   "source": [
    "%attachments"
   ]
  },
  {
   "cell_type": "markdown",
   "metadata": {},
   "source": [
    "# Model Development (Part 2)\n",
    "- Second model using keras with remote training cluster\n",
    "- Save model and prepare for TensorFlow Serving"
   ]
  },
  {
   "cell_type": "markdown",
   "metadata": {},
   "source": [
    "## Fill in your initials for the <b>STUDENT</b> variable and your training cluster name"
   ]
  },
  {
   "cell_type": "code",
   "execution_count": null,
   "metadata": {},
   "outputs": [],
   "source": [
    "%%<your training cluster>\n",
    "\n",
    "import numpy\n",
    "import os\n",
    "import pandas as pd\n",
    "import tensorflow as tf\n",
    "from numpy import loadtxt\n",
    "from keras.models import Sequential\n",
    "from keras.layers import Dense\n",
    "\n",
    "STUDENT = \"\"\n",
    "\n",
    "## Set the project repo \n",
    "def ProjectRepo(path):\n",
    "   ProjectRepo = \"/bd-fs-mnt/project_repo\"\n",
    "   return str(ProjectRepo + '/' + path)  \n",
    "\n",
    "## Load the dataset\n",
    "print(\"Loading data\")\n",
    "dataset = loadtxt(ProjectRepo('data/' + STUDENT + '_Diabetes/pima-indians-diabetes.csv'), delimiter=\",\") \n",
    "dataset.shape\n",
    "\n",
    "# Split into input (X) and output (y) variables\n",
    "X = dataset[:,0:8]\n",
    "y = dataset[:,8]\n",
    "\n",
    "# Define the keras model\n",
    "print(\"Building model\")\n",
    "model = Sequential()\n",
    "model.add(Dense(12, input_dim=8, activation='relu'))\n",
    "model.add(Dense(8, activation='relu'))\n",
    "model.add(Dense(1, activation='sigmoid'))\n",
    "\n",
    "# Compile the keras model\n",
    "model.compile(loss='binary_crossentropy', optimizer='adam', metrics=['accuracy'])\n",
    "\n",
    "# Fit the keras model on the dataset\n",
    "print(\"Training model\")\n",
    "model.fit(X, y, epochs=150, batch_size=10, verbose= 0)\n",
    "\n",
    "# Evaluate the keras model\n",
    "_, accuracy = model.evaluate(X, y, verbose=0)\n",
    "print('Accuracy: %.2f' % (accuracy*100))\n",
    "\n",
    "# Make class predictions with the model\n",
    "predictions = model.predict_classes(X)\n",
    "\n",
    "# Summarize the first 3 cases\n",
    "for i in range(3):\n",
    "\tprint('%s => %d (expected %d)' % (X[i].tolist(), predictions[i], y[i]))\n",
    "\n",
    "# Save model weights and architecture together\n",
    "print(\"Saving model\")\n",
    "model.save(ProjectRepo('models/' + STUDENT + '_Diabetes/db_remote.h5'))\n",
    "\n",
    "# Evaluate the keras model\n",
    "_, accuracy = model.evaluate(X, y, verbose=0)\n",
    "print('Accuracy: %.2f' % (accuracy*100))\n",
    "\n",
    "# Make class predictions with the model\n",
    "predictions = model.predict_classes(X)\n",
    "\n",
    "# Summarize the first 5 cases\n",
    "for i in range(5):\n",
    "\tprint('%s => %d (expected %d)' % (X[i].tolist(), predictions[i], y[i]))\n",
    "    \n",
    "# Prepare TF Serving\n",
    "print(\"Preparing for TF Serving\")\n",
    "MODEL_VERSION = 1\n",
    "tf.keras.backend.set_learning_phase(0) \n",
    "model = tf.keras.models.load_model(ProjectRepo('models/' + STUDENT + '_Diabetes/db_remote.h5'))\n",
    "export_path = ProjectRepo('models/' + STUDENT + '_Diabetes/' + str(MODEL_VERSION))\n",
    "tf.keras.models.save_model(model, export_path)\n",
    "    \n",
    "# Summarize model.\n",
    "model.summary()\n",
    "print(\"Done\")"
   ]
  },
  {
   "cell_type": "markdown",
   "metadata": {},
   "source": [
    "## After executing the cell above, a historyl url will be returned. Copy and paste the url into the cell below. You can execute the cell below as many times as you'd like to see the job status in real time. "
   ]
  },
  {
   "cell_type": "code",
   "execution_count": null,
   "metadata": {},
   "outputs": [],
   "source": [
    "# Fill in the history url from the output of the previous cell\n",
    "%logs --url <your history url>"
   ]
  }
 ],
 "metadata": {
  "kernelspec": {
   "display_name": "Python 3",
   "language": "python",
   "name": "python3"
  },
  "language_info": {
   "codemirror_mode": {
    "name": "ipython",
    "version": 3
   },
   "file_extension": ".py",
   "mimetype": "text/x-python",
   "name": "python",
   "nbconvert_exporter": "python",
   "pygments_lexer": "ipython3",
   "version": "3.7.3"
  }
 },
 "nbformat": 4,
 "nbformat_minor": 4
}
