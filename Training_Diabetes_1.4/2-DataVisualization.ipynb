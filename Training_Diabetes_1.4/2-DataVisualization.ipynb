{
 "cells": [
  {
   "cell_type": "markdown",
   "id": "a3837a2b-6f72-46ac-a14d-0292eb488c95",
   "metadata": {},
   "source": [
    "# Lab 2 - Visualization\n",
    "\n",
    "In this lab we will do some basic data visualization to see what kind of data we are working with"
   ]
  },
  {
   "cell_type": "code",
   "execution_count": null,
   "id": "b2b1e398-7439-44ae-95a6-7213bd019f00",
   "metadata": {},
   "outputs": [],
   "source": [
    "import numpy\n",
    "import os\n",
    "import pandas as pd\n",
    "import tensorflow as tf\n",
    "\n",
    "%store -r STUDENT\n",
    "\n",
    "## Set the project repo \n",
    "def ProjectRepo(path):\n",
    "   ProjectRepo = \"/bd-fs-mnt/project_repo\"\n",
    "   return str(ProjectRepo + '/' + path)     \n",
    "\n",
    "## Load the dataset\n",
    "dataset = pd.read_csv(ProjectRepo('data/' + STUDENT + '_Diabetes/pima-indians-diabetes.csv'), delimiter=\",\")\n",
    "dataset.columns = [\n",
    "    \"NumTimesPrg\", \"PlGlcConc\", \"BloodP\",\n",
    "    \"SkinThick\", \"TwoHourSerIns\", \"BMI\",\n",
    "    \"DiPedFunc\", \"Age\", \"HasDiabetes\"]"
   ]
  },
  {
   "cell_type": "markdown",
   "id": "c3a19ca6-91ad-4fe2-9185-4f6c31604571",
   "metadata": {},
   "source": [
    "- Pregnancies\n",
    "- Glucose — The blood plasma glucose concentration after a 2 hour oral glucose tolerance test.\n",
    "- BloodPressure — Diastolic blood pressure (mm/HG).\n",
    "- SkinThickness — Skinfold thickness of the triceps (mm).\n",
    "- Insulin — 2 hour serum insulin (mu U/ml).\n",
    "- BMI — Body mass index (kg/m squared)\n",
    "- DiabetesPedigreeFunction — A function that determines the risk of type 2 diabetes based on family history, the larger the function, the higher the risk of type 2 diabetes.\n",
    "- Age.\n",
    "- Outcome — Whether the person is diagnosed with type 2 diabetes (1 = yes, 0 = no)."
   ]
  },
  {
   "cell_type": "code",
   "execution_count": null,
   "id": "f4ffc528-1bd2-4424-a86a-032a8696ce04",
   "metadata": {},
   "outputs": [],
   "source": [
    "corr = dataset.corr()\n",
    "corr"
   ]
  },
  {
   "cell_type": "markdown",
   "id": "6bcd1c78-2938-4348-9dc8-f714360f9713",
   "metadata": {},
   "source": [
    "## Visualizing correlation of variables with a heatmap"
   ]
  },
  {
   "cell_type": "code",
   "execution_count": null,
   "id": "3277b651-2a99-4303-a58b-4fb18a075a7e",
   "metadata": {},
   "outputs": [],
   "source": [
    "%matplotlib inline\n",
    "import seaborn as sns\n",
    "sns.heatmap(corr, annot = True)"
   ]
  },
  {
   "cell_type": "markdown",
   "id": "63df4064-ed79-4750-a8e9-fd53ffc184a3",
   "metadata": {},
   "source": [
    "## Plotting histogram distribution of each feature variable"
   ]
  },
  {
   "cell_type": "code",
   "execution_count": null,
   "id": "08de5fdd-c64b-44a8-afe3-fcb1cf0f7324",
   "metadata": {},
   "outputs": [],
   "source": [
    "import matplotlib.pyplot as plt\n",
    "dataset.hist(bins=50, figsize=(20, 15))\n",
    "plt.show()"
   ]
  }
 ],
 "metadata": {
  "kernelspec": {
   "display_name": "Python 3",
   "language": "python",
   "name": "python3"
  },
  "language_info": {
   "codemirror_mode": {
    "name": "ipython",
    "version": 3
   },
   "file_extension": ".py",
   "mimetype": "text/x-python",
   "name": "python",
   "nbconvert_exporter": "python",
   "pygments_lexer": "ipython3",
   "version": "3.7.3"
  }
 },
 "nbformat": 4,
 "nbformat_minor": 5
}
